{
 "cells": [
  {
   "cell_type": "markdown",
   "metadata": {},
   "source": [
    "# 1. Introduction\n",
    "\n",
    "***Kelompok     :*** 1\n",
    "\n",
    "***Batch        :*** HCK-017\n",
    "\n",
    "***Objective    :*** \n",
    "\n",
    "Program ini dibuat untuk memvalidasi dataset hasil cleaning dan menyimpan konfigurasi validasi agar proses validasi dapat dilakukan lagi dengan dataset yang telah diupdate atau dataset baru (dengan konteks problem yang sama). Selain itu, program ini juga dibuat untuk memastikan jika dataset hasil cleaning siap digunakan untuk proses analisa dan proses feature engineering"
   ]
  },
  {
   "cell_type": "markdown",
   "metadata": {},
   "source": [
    "# 2. Import Libraries"
   ]
  },
  {
   "cell_type": "code",
   "execution_count": 98,
   "metadata": {},
   "outputs": [],
   "source": [
    "from great_expectations.data_context import FileDataContext\n",
    "from great_expectations.core.batch import BatchRequest\n",
    "from great_expectations.data_context import DataContext\n",
    "import pandas as pd"
   ]
  },
  {
   "cell_type": "markdown",
   "metadata": {},
   "source": [
    "# 3. Mendefinisikan Aset dan Datasource"
   ]
  },
  {
   "cell_type": "code",
   "execution_count": 52,
   "metadata": {},
   "outputs": [],
   "source": [
    "# Load data csv\n",
    "dfUC = pd.read_csv(r\"C:\\Users\\Fiqih\\AppData\\Local\\Programs\\Latihan python\\hacktiv8\\FinalProject\\webscrapping\\dags\\clean_usedcar_data.csv\")\n",
    "dfFAQ = pd.read_csv(r\"C:\\Users\\Fiqih\\AppData\\Local\\Programs\\Latihan python\\hacktiv8\\FinalProject\\webscrapping\\dags\\clean_faq_data.csv\")\n",
    "\n",
    "# Atur dis[lay]\n",
    "pd.set_option('display.max_rows', None)\n",
    "pd.set_option('display.max_columns', None)\n",
    "pd.set_option('display.max_colwidth', None)"
   ]
  },
  {
   "cell_type": "code",
   "execution_count": 32,
   "metadata": {},
   "outputs": [],
   "source": [
    "# Membuat DataContext\n",
    "context = FileDataContext.create(project_root_dir='./')"
   ]
  },
  {
   "cell_type": "code",
   "execution_count": 33,
   "metadata": {},
   "outputs": [],
   "source": [
    "# Membuat nama datasource untuk dataset used car\n",
    "datasource_usedcar = 'datasource_fp1'\n",
    "datasource_faq = 'datasource_fp2'\n"
   ]
  },
  {
   "cell_type": "code",
   "execution_count": 40,
   "metadata": {},
   "outputs": [],
   "source": [
    "# Menghapus datasource jika sudah ada\n",
    "if datasource_usedcar in context.datasources:\n",
    "    context.delete_datasource(datasource_usedcar)\n",
    "if datasource_faq in context.datasources:\n",
    "    context.delete_datasource(datasource_faq)"
   ]
  },
  {
   "cell_type": "code",
   "execution_count": 41,
   "metadata": {},
   "outputs": [],
   "source": [
    "datasource1 = context.sources.add_pandas(datasource_usedcar)"
   ]
  },
  {
   "cell_type": "code",
   "execution_count": 39,
   "metadata": {},
   "outputs": [],
   "source": [
    "datasource2 = context.sources.add_pandas(datasource_faq)"
   ]
  },
  {
   "cell_type": "code",
   "execution_count": 42,
   "metadata": {},
   "outputs": [],
   "source": [
    "# Membuat nama data asset used car\n",
    "asset_name = 'asset_used_car'\n",
    "\n",
    "# Membuat file untuk mengakses data asset used car\n",
    "path_to_data = '/Users/Fiqih/AppData/Local/Programs/Latihan python/hacktiv8/FinalProject/webscrapping/dags/clean_usedcar_data.csv'\n",
    "\n",
    "# Membuat aset data berdasarkan file yang telah ditentukan path nya\n",
    "assetUC = datasource1.add_csv_asset(name=asset_name, filepath_or_buffer=path_to_data)"
   ]
  },
  {
   "cell_type": "code",
   "execution_count": 43,
   "metadata": {},
   "outputs": [],
   "source": [
    "# Membuat nama data asset faq\n",
    "asset_name = 'asset_used_faq'\n",
    "\n",
    "# Membuat file untuk mengakses data asset faq\n",
    "path_to_data = '/Users/Fiqih/AppData/Local/Programs/Latihan python/hacktiv8/FinalProject/webscrapping/dags/clean_faq_data.csv'\n",
    "\n",
    "# Membuat aset data berdasarkan file yang telah ditentukan path nya\n",
    "assetFAQ = datasource2.add_csv_asset(name=asset_name, filepath_or_buffer=path_to_data)"
   ]
  },
  {
   "cell_type": "code",
   "execution_count": 44,
   "metadata": {},
   "outputs": [],
   "source": [
    "# Membuat permintaan data dari aset yang telah ditentukan\n",
    "batch_request_uc = assetUC.build_batch_request()"
   ]
  },
  {
   "cell_type": "code",
   "execution_count": 45,
   "metadata": {},
   "outputs": [],
   "source": [
    "# Membuat permintaan data dari aset yang telah ditentukan\n",
    "batch_request_faq = assetFAQ.build_batch_request()"
   ]
  },
  {
   "cell_type": "markdown",
   "metadata": {},
   "source": [
    "# 4. Expectation Suite"
   ]
  },
  {
   "cell_type": "code",
   "execution_count": 46,
   "metadata": {},
   "outputs": [
    {
     "data": {
      "application/vnd.jupyter.widget-view+json": {
       "model_id": "b07400a237e4412399d7bc49df165863",
       "version_major": 2,
       "version_minor": 0
      },
      "text/plain": [
       "Calculating Metrics:   0%|          | 0/1 [00:00<?, ?it/s]"
      ]
     },
     "metadata": {},
     "output_type": "display_data"
    },
    {
     "data": {
      "text/html": [
       "<div>\n",
       "<style scoped>\n",
       "    .dataframe tbody tr th:only-of-type {\n",
       "        vertical-align: middle;\n",
       "    }\n",
       "\n",
       "    .dataframe tbody tr th {\n",
       "        vertical-align: top;\n",
       "    }\n",
       "\n",
       "    .dataframe thead th {\n",
       "        text-align: right;\n",
       "    }\n",
       "</style>\n",
       "<table border=\"1\" class=\"dataframe\">\n",
       "  <thead>\n",
       "    <tr style=\"text-align: right;\">\n",
       "      <th></th>\n",
       "      <th>nama_mobil</th>\n",
       "      <th>brand</th>\n",
       "      <th>tahun_rilis</th>\n",
       "      <th>jarak_tempuh(km)</th>\n",
       "      <th>location</th>\n",
       "      <th>transmisi</th>\n",
       "      <th>plate_type</th>\n",
       "      <th>rear_camera</th>\n",
       "      <th>sun_roof</th>\n",
       "      <th>auto_retract_mirror</th>\n",
       "      <th>...</th>\n",
       "      <th>map_navigator</th>\n",
       "      <th>vehicle_stability_control</th>\n",
       "      <th>keyless_push_start</th>\n",
       "      <th>sports_mode</th>\n",
       "      <th>360_camera_view</th>\n",
       "      <th>power_sliding_door</th>\n",
       "      <th>auto_cruise_control</th>\n",
       "      <th>harga_(Rp)</th>\n",
       "      <th>cicilan_(Rp/month)</th>\n",
       "      <th>combined_info</th>\n",
       "    </tr>\n",
       "  </thead>\n",
       "  <tbody>\n",
       "    <tr>\n",
       "      <th>0</th>\n",
       "      <td>AYLA X 1.2</td>\n",
       "      <td>Daihatsu</td>\n",
       "      <td>2018</td>\n",
       "      <td>10.508</td>\n",
       "      <td>Jakarta Utara</td>\n",
       "      <td>Manual</td>\n",
       "      <td>Plat genap</td>\n",
       "      <td>Tidak ada atau tidak memiliki</td>\n",
       "      <td>Tidak ada atau tidak memiliki</td>\n",
       "      <td>Tidak ada atau tidak memiliki</td>\n",
       "      <td>...</td>\n",
       "      <td>Tidak ada atau tidak memiliki</td>\n",
       "      <td>Tidak ada atau tidak memiliki</td>\n",
       "      <td>Tidak ada atau tidak memiliki</td>\n",
       "      <td>Tidak ada atau tidak memiliki</td>\n",
       "      <td>Tidak ada atau tidak memiliki</td>\n",
       "      <td>Tidak ada atau tidak memiliki</td>\n",
       "      <td>Tidak ada atau tidak memiliki</td>\n",
       "      <td>101000000</td>\n",
       "      <td>2060000</td>\n",
       "      <td>Nama mobil: AYLA X 1.2, Brand mobil: Daihatsu,...</td>\n",
       "    </tr>\n",
       "    <tr>\n",
       "      <th>1</th>\n",
       "      <td>AGYA TRD SPORTIVO 1.0</td>\n",
       "      <td>Toyota</td>\n",
       "      <td>2015</td>\n",
       "      <td>112.888</td>\n",
       "      <td>Bogor</td>\n",
       "      <td>Manual</td>\n",
       "      <td>Plat genap</td>\n",
       "      <td>Tidak ada atau tidak memiliki</td>\n",
       "      <td>Tidak ada atau tidak memiliki</td>\n",
       "      <td>Tidak ada atau tidak memiliki</td>\n",
       "      <td>...</td>\n",
       "      <td>Tidak ada atau tidak memiliki</td>\n",
       "      <td>Tidak ada atau tidak memiliki</td>\n",
       "      <td>Tidak ada atau tidak memiliki</td>\n",
       "      <td>Tidak ada atau tidak memiliki</td>\n",
       "      <td>Tidak ada atau tidak memiliki</td>\n",
       "      <td>Tidak ada atau tidak memiliki</td>\n",
       "      <td>Tidak ada atau tidak memiliki</td>\n",
       "      <td>82000000</td>\n",
       "      <td>1670000</td>\n",
       "      <td>Nama mobil: AGYA TRD SPORTIVO 1.0, Brand mobil...</td>\n",
       "    </tr>\n",
       "    <tr>\n",
       "      <th>2</th>\n",
       "      <td>X-TRAIL 2.5</td>\n",
       "      <td>Nissan</td>\n",
       "      <td>2015</td>\n",
       "      <td>118.429</td>\n",
       "      <td>Surabaya</td>\n",
       "      <td>Automatic</td>\n",
       "      <td>Plat ganjil</td>\n",
       "      <td>Tidak ada atau tidak memiliki</td>\n",
       "      <td>Tidak ada atau tidak memiliki</td>\n",
       "      <td>Tidak ada atau tidak memiliki</td>\n",
       "      <td>...</td>\n",
       "      <td>Tidak ada atau tidak memiliki</td>\n",
       "      <td>Tidak ada atau tidak memiliki</td>\n",
       "      <td>Ada atau memiliki</td>\n",
       "      <td>Tidak ada atau tidak memiliki</td>\n",
       "      <td>Ada atau memiliki</td>\n",
       "      <td>Tidak ada atau tidak memiliki</td>\n",
       "      <td>Tidak ada atau tidak memiliki</td>\n",
       "      <td>169000000</td>\n",
       "      <td>3440000</td>\n",
       "      <td>Nama mobil: X-TRAIL 2.5, Brand mobil: Nissan, ...</td>\n",
       "    </tr>\n",
       "    <tr>\n",
       "      <th>3</th>\n",
       "      <td>YARIS S TRD 1.5</td>\n",
       "      <td>Toyota</td>\n",
       "      <td>2020</td>\n",
       "      <td>15.945</td>\n",
       "      <td>Tangerang Selatan</td>\n",
       "      <td>Automatic</td>\n",
       "      <td>Plat ganjil</td>\n",
       "      <td>Tidak ada atau tidak memiliki</td>\n",
       "      <td>Tidak ada atau tidak memiliki</td>\n",
       "      <td>Tidak ada atau tidak memiliki</td>\n",
       "      <td>...</td>\n",
       "      <td>Tidak ada atau tidak memiliki</td>\n",
       "      <td>Tidak ada atau tidak memiliki</td>\n",
       "      <td>Tidak ada atau tidak memiliki</td>\n",
       "      <td>Tidak ada atau tidak memiliki</td>\n",
       "      <td>Tidak ada atau tidak memiliki</td>\n",
       "      <td>Tidak ada atau tidak memiliki</td>\n",
       "      <td>Tidak ada atau tidak memiliki</td>\n",
       "      <td>218000000</td>\n",
       "      <td>4440000</td>\n",
       "      <td>Nama mobil: YARIS S TRD 1.5, Brand mobil: Toyo...</td>\n",
       "    </tr>\n",
       "    <tr>\n",
       "      <th>4</th>\n",
       "      <td>AGYA G 1.2</td>\n",
       "      <td>Toyota</td>\n",
       "      <td>2019</td>\n",
       "      <td>30.404</td>\n",
       "      <td>Jakarta Barat</td>\n",
       "      <td>Manual</td>\n",
       "      <td>Plat ganjil</td>\n",
       "      <td>Tidak ada atau tidak memiliki</td>\n",
       "      <td>Tidak ada atau tidak memiliki</td>\n",
       "      <td>Tidak ada atau tidak memiliki</td>\n",
       "      <td>...</td>\n",
       "      <td>Tidak ada atau tidak memiliki</td>\n",
       "      <td>Tidak ada atau tidak memiliki</td>\n",
       "      <td>Tidak ada atau tidak memiliki</td>\n",
       "      <td>Tidak ada atau tidak memiliki</td>\n",
       "      <td>Tidak ada atau tidak memiliki</td>\n",
       "      <td>Tidak ada atau tidak memiliki</td>\n",
       "      <td>Tidak ada atau tidak memiliki</td>\n",
       "      <td>117000000</td>\n",
       "      <td>2380000</td>\n",
       "      <td>Nama mobil: AGYA G 1.2, Brand mobil: Toyota, T...</td>\n",
       "    </tr>\n",
       "  </tbody>\n",
       "</table>\n",
       "<p>5 rows × 21 columns</p>\n",
       "</div>"
      ],
      "text/plain": [
       "              nama_mobil     brand  tahun_rilis  jarak_tempuh(km)  \\\n",
       "0             AYLA X 1.2  Daihatsu         2018            10.508   \n",
       "1  AGYA TRD SPORTIVO 1.0    Toyota         2015           112.888   \n",
       "2            X-TRAIL 2.5    Nissan         2015           118.429   \n",
       "3        YARIS S TRD 1.5    Toyota         2020            15.945   \n",
       "4             AGYA G 1.2    Toyota         2019            30.404   \n",
       "\n",
       "            location  transmisi   plate_type                    rear_camera  \\\n",
       "0      Jakarta Utara     Manual   Plat genap  Tidak ada atau tidak memiliki   \n",
       "1              Bogor     Manual   Plat genap  Tidak ada atau tidak memiliki   \n",
       "2           Surabaya  Automatic  Plat ganjil  Tidak ada atau tidak memiliki   \n",
       "3  Tangerang Selatan  Automatic  Plat ganjil  Tidak ada atau tidak memiliki   \n",
       "4      Jakarta Barat     Manual  Plat ganjil  Tidak ada atau tidak memiliki   \n",
       "\n",
       "                        sun_roof            auto_retract_mirror  ...  \\\n",
       "0  Tidak ada atau tidak memiliki  Tidak ada atau tidak memiliki  ...   \n",
       "1  Tidak ada atau tidak memiliki  Tidak ada atau tidak memiliki  ...   \n",
       "2  Tidak ada atau tidak memiliki  Tidak ada atau tidak memiliki  ...   \n",
       "3  Tidak ada atau tidak memiliki  Tidak ada atau tidak memiliki  ...   \n",
       "4  Tidak ada atau tidak memiliki  Tidak ada atau tidak memiliki  ...   \n",
       "\n",
       "                   map_navigator      vehicle_stability_control  \\\n",
       "0  Tidak ada atau tidak memiliki  Tidak ada atau tidak memiliki   \n",
       "1  Tidak ada atau tidak memiliki  Tidak ada atau tidak memiliki   \n",
       "2  Tidak ada atau tidak memiliki  Tidak ada atau tidak memiliki   \n",
       "3  Tidak ada atau tidak memiliki  Tidak ada atau tidak memiliki   \n",
       "4  Tidak ada atau tidak memiliki  Tidak ada atau tidak memiliki   \n",
       "\n",
       "              keyless_push_start                    sports_mode  \\\n",
       "0  Tidak ada atau tidak memiliki  Tidak ada atau tidak memiliki   \n",
       "1  Tidak ada atau tidak memiliki  Tidak ada atau tidak memiliki   \n",
       "2              Ada atau memiliki  Tidak ada atau tidak memiliki   \n",
       "3  Tidak ada atau tidak memiliki  Tidak ada atau tidak memiliki   \n",
       "4  Tidak ada atau tidak memiliki  Tidak ada atau tidak memiliki   \n",
       "\n",
       "                 360_camera_view             power_sliding_door  \\\n",
       "0  Tidak ada atau tidak memiliki  Tidak ada atau tidak memiliki   \n",
       "1  Tidak ada atau tidak memiliki  Tidak ada atau tidak memiliki   \n",
       "2              Ada atau memiliki  Tidak ada atau tidak memiliki   \n",
       "3  Tidak ada atau tidak memiliki  Tidak ada atau tidak memiliki   \n",
       "4  Tidak ada atau tidak memiliki  Tidak ada atau tidak memiliki   \n",
       "\n",
       "             auto_cruise_control harga_(Rp)  cicilan_(Rp/month)  \\\n",
       "0  Tidak ada atau tidak memiliki  101000000             2060000   \n",
       "1  Tidak ada atau tidak memiliki   82000000             1670000   \n",
       "2  Tidak ada atau tidak memiliki  169000000             3440000   \n",
       "3  Tidak ada atau tidak memiliki  218000000             4440000   \n",
       "4  Tidak ada atau tidak memiliki  117000000             2380000   \n",
       "\n",
       "                                       combined_info  \n",
       "0  Nama mobil: AYLA X 1.2, Brand mobil: Daihatsu,...  \n",
       "1  Nama mobil: AGYA TRD SPORTIVO 1.0, Brand mobil...  \n",
       "2  Nama mobil: X-TRAIL 2.5, Brand mobil: Nissan, ...  \n",
       "3  Nama mobil: YARIS S TRD 1.5, Brand mobil: Toyo...  \n",
       "4  Nama mobil: AGYA G 1.2, Brand mobil: Toyota, T...  \n",
       "\n",
       "[5 rows x 21 columns]"
      ]
     },
     "execution_count": 46,
     "metadata": {},
     "output_type": "execute_result"
    }
   ],
   "source": [
    "# Membuat expectation suite untuk dataset used car\n",
    "expectation_suite_name = 'expectation_data_uc'\n",
    "context.add_or_update_expectation_suite(expectation_suite_name)\n",
    "\n",
    "# Membuat validator berdasarkan data yang telah direquest dengan batch request\n",
    "validator_uc = context.get_validator(\n",
    "    batch_request = batch_request_uc,\n",
    "    expectation_suite_name = expectation_suite_name\n",
    ")\n",
    "\n",
    "# Cek hasil\n",
    "validator_uc.head()"
   ]
  },
  {
   "cell_type": "code",
   "execution_count": 47,
   "metadata": {},
   "outputs": [
    {
     "data": {
      "application/vnd.jupyter.widget-view+json": {
       "model_id": "4554f259ffa34563970b45d0eac9a4d0",
       "version_major": 2,
       "version_minor": 0
      },
      "text/plain": [
       "Calculating Metrics:   0%|          | 0/1 [00:00<?, ?it/s]"
      ]
     },
     "metadata": {},
     "output_type": "display_data"
    },
    {
     "data": {
      "text/html": [
       "<div>\n",
       "<style scoped>\n",
       "    .dataframe tbody tr th:only-of-type {\n",
       "        vertical-align: middle;\n",
       "    }\n",
       "\n",
       "    .dataframe tbody tr th {\n",
       "        vertical-align: top;\n",
       "    }\n",
       "\n",
       "    .dataframe thead th {\n",
       "        text-align: right;\n",
       "    }\n",
       "</style>\n",
       "<table border=\"1\" class=\"dataframe\">\n",
       "  <thead>\n",
       "    <tr style=\"text-align: right;\">\n",
       "      <th></th>\n",
       "      <th>Question</th>\n",
       "      <th>Answer</th>\n",
       "    </tr>\n",
       "  </thead>\n",
       "  <tbody>\n",
       "    <tr>\n",
       "      <th>0</th>\n",
       "      <td>Bagaimanakah cara menjual mobil di CARSOME?</td>\n",
       "      <td>CARSOME Indonesia menawarkan cara baru menjual...</td>\n",
       "    </tr>\n",
       "    <tr>\n",
       "      <th>1</th>\n",
       "      <td>Mengapa menggunakan CARSOME untuk menjual mobi...</td>\n",
       "      <td>CARSOME Indonesia adalah cara tercepat dan ter...</td>\n",
       "    </tr>\n",
       "    <tr>\n",
       "      <th>2</th>\n",
       "      <td>Apakah itu survey?</td>\n",
       "      <td>Survey adalah proses pengecekan kondisi mobil ...</td>\n",
       "    </tr>\n",
       "    <tr>\n",
       "      <th>3</th>\n",
       "      <td>Bagaimana jika saya ingin menjual mobil namun ...</td>\n",
       "      <td>Apabila mobil anda masih dalam masa kredit, ka...</td>\n",
       "    </tr>\n",
       "    <tr>\n",
       "      <th>4</th>\n",
       "      <td>Bagaimanakah cara membuat jadwal survey?</td>\n",
       "      <td>Setelah memasukkan data-data mobil dan data-da...</td>\n",
       "    </tr>\n",
       "  </tbody>\n",
       "</table>\n",
       "</div>"
      ],
      "text/plain": [
       "                                            Question  \\\n",
       "0        Bagaimanakah cara menjual mobil di CARSOME?   \n",
       "1  Mengapa menggunakan CARSOME untuk menjual mobi...   \n",
       "2                                 Apakah itu survey?   \n",
       "3  Bagaimana jika saya ingin menjual mobil namun ...   \n",
       "4           Bagaimanakah cara membuat jadwal survey?   \n",
       "\n",
       "                                              Answer  \n",
       "0  CARSOME Indonesia menawarkan cara baru menjual...  \n",
       "1  CARSOME Indonesia adalah cara tercepat dan ter...  \n",
       "2  Survey adalah proses pengecekan kondisi mobil ...  \n",
       "3  Apabila mobil anda masih dalam masa kredit, ka...  \n",
       "4  Setelah memasukkan data-data mobil dan data-da...  "
      ]
     },
     "execution_count": 47,
     "metadata": {},
     "output_type": "execute_result"
    }
   ],
   "source": [
    "# Membuat expectation suite untuk dataset FAQ\n",
    "expectation_suite_name = 'expectation_data_faq'\n",
    "context.add_or_update_expectation_suite(expectation_suite_name)\n",
    "\n",
    "# Membuat validator berdasarkan data yang telah direquest dengan batch request\n",
    "validator_faq = context.get_validator(\n",
    "    batch_request = batch_request_faq,\n",
    "    expectation_suite_name = expectation_suite_name\n",
    ")\n",
    "\n",
    "# Cek hasil\n",
    "validator_faq.head()"
   ]
  },
  {
   "cell_type": "markdown",
   "metadata": {},
   "source": [
    "# 5. Data Validation"
   ]
  },
  {
   "cell_type": "markdown",
   "metadata": {},
   "source": [
    "### 5.1. Used Car Dataset"
   ]
  },
  {
   "cell_type": "markdown",
   "metadata": {},
   "source": [
    "#### 5.1.1. Expectation 1 : Tidak boleh ada kolom yang memiliki missing values"
   ]
  },
  {
   "cell_type": "code",
   "execution_count": 90,
   "metadata": {},
   "outputs": [
    {
     "data": {
      "application/vnd.jupyter.widget-view+json": {
       "model_id": "eeee5af5686943948a6eb83591275d62",
       "version_major": 2,
       "version_minor": 0
      },
      "text/plain": [
       "Calculating Metrics:   0%|          | 0/6 [00:00<?, ?it/s]"
      ]
     },
     "metadata": {},
     "output_type": "display_data"
    },
    {
     "name": "stdout",
     "output_type": "stream",
     "text": [
      "{\n",
      "  \"success\": true,\n",
      "  \"expectation_config\": {\n",
      "    \"expectation_type\": \"expect_column_values_to_not_be_null\",\n",
      "    \"kwargs\": {\n",
      "      \"column\": \"nama_mobil\",\n",
      "      \"batch_id\": \"datasource_fp1-asset_used_car\"\n",
      "    },\n",
      "    \"meta\": {}\n",
      "  },\n",
      "  \"result\": {\n",
      "    \"element_count\": 609,\n",
      "    \"unexpected_count\": 0,\n",
      "    \"unexpected_percent\": 0.0,\n",
      "    \"partial_unexpected_list\": []\n",
      "  },\n",
      "  \"meta\": {},\n",
      "  \"exception_info\": {\n",
      "    \"raised_exception\": false,\n",
      "    \"exception_traceback\": null,\n",
      "    \"exception_message\": null\n",
      "  }\n",
      "}\n"
     ]
    },
    {
     "data": {
      "application/vnd.jupyter.widget-view+json": {
       "model_id": "9453662149be4b4c992b4e89a63fba89",
       "version_major": 2,
       "version_minor": 0
      },
      "text/plain": [
       "Calculating Metrics:   0%|          | 0/6 [00:00<?, ?it/s]"
      ]
     },
     "metadata": {},
     "output_type": "display_data"
    },
    {
     "name": "stdout",
     "output_type": "stream",
     "text": [
      "{\n",
      "  \"success\": true,\n",
      "  \"expectation_config\": {\n",
      "    \"expectation_type\": \"expect_column_values_to_not_be_null\",\n",
      "    \"kwargs\": {\n",
      "      \"column\": \"brand\",\n",
      "      \"batch_id\": \"datasource_fp1-asset_used_car\"\n",
      "    },\n",
      "    \"meta\": {}\n",
      "  },\n",
      "  \"result\": {\n",
      "    \"element_count\": 609,\n",
      "    \"unexpected_count\": 0,\n",
      "    \"unexpected_percent\": 0.0,\n",
      "    \"partial_unexpected_list\": []\n",
      "  },\n",
      "  \"meta\": {},\n",
      "  \"exception_info\": {\n",
      "    \"raised_exception\": false,\n",
      "    \"exception_traceback\": null,\n",
      "    \"exception_message\": null\n",
      "  }\n",
      "}\n"
     ]
    },
    {
     "data": {
      "application/vnd.jupyter.widget-view+json": {
       "model_id": "1a4bde7a87694e908ff719ba8b4d9910",
       "version_major": 2,
       "version_minor": 0
      },
      "text/plain": [
       "Calculating Metrics:   0%|          | 0/6 [00:00<?, ?it/s]"
      ]
     },
     "metadata": {},
     "output_type": "display_data"
    },
    {
     "name": "stdout",
     "output_type": "stream",
     "text": [
      "{\n",
      "  \"success\": true,\n",
      "  \"expectation_config\": {\n",
      "    \"expectation_type\": \"expect_column_values_to_not_be_null\",\n",
      "    \"kwargs\": {\n",
      "      \"column\": \"tahun_rilis\",\n",
      "      \"batch_id\": \"datasource_fp1-asset_used_car\"\n",
      "    },\n",
      "    \"meta\": {}\n",
      "  },\n",
      "  \"result\": {\n",
      "    \"element_count\": 609,\n",
      "    \"unexpected_count\": 0,\n",
      "    \"unexpected_percent\": 0.0,\n",
      "    \"partial_unexpected_list\": []\n",
      "  },\n",
      "  \"meta\": {},\n",
      "  \"exception_info\": {\n",
      "    \"raised_exception\": false,\n",
      "    \"exception_traceback\": null,\n",
      "    \"exception_message\": null\n",
      "  }\n",
      "}\n"
     ]
    },
    {
     "data": {
      "application/vnd.jupyter.widget-view+json": {
       "model_id": "5aa035a4fef1451cbbdd6dff26a5e6da",
       "version_major": 2,
       "version_minor": 0
      },
      "text/plain": [
       "Calculating Metrics:   0%|          | 0/6 [00:00<?, ?it/s]"
      ]
     },
     "metadata": {},
     "output_type": "display_data"
    },
    {
     "name": "stdout",
     "output_type": "stream",
     "text": [
      "{\n",
      "  \"success\": true,\n",
      "  \"expectation_config\": {\n",
      "    \"expectation_type\": \"expect_column_values_to_not_be_null\",\n",
      "    \"kwargs\": {\n",
      "      \"column\": \"jarak_tempuh(km)\",\n",
      "      \"batch_id\": \"datasource_fp1-asset_used_car\"\n",
      "    },\n",
      "    \"meta\": {}\n",
      "  },\n",
      "  \"result\": {\n",
      "    \"element_count\": 609,\n",
      "    \"unexpected_count\": 0,\n",
      "    \"unexpected_percent\": 0.0,\n",
      "    \"partial_unexpected_list\": []\n",
      "  },\n",
      "  \"meta\": {},\n",
      "  \"exception_info\": {\n",
      "    \"raised_exception\": false,\n",
      "    \"exception_traceback\": null,\n",
      "    \"exception_message\": null\n",
      "  }\n",
      "}\n"
     ]
    },
    {
     "data": {
      "application/vnd.jupyter.widget-view+json": {
       "model_id": "26580fed2251415f9ad07680fe49bd60",
       "version_major": 2,
       "version_minor": 0
      },
      "text/plain": [
       "Calculating Metrics:   0%|          | 0/6 [00:00<?, ?it/s]"
      ]
     },
     "metadata": {},
     "output_type": "display_data"
    },
    {
     "name": "stdout",
     "output_type": "stream",
     "text": [
      "{\n",
      "  \"success\": true,\n",
      "  \"expectation_config\": {\n",
      "    \"expectation_type\": \"expect_column_values_to_not_be_null\",\n",
      "    \"kwargs\": {\n",
      "      \"column\": \"location\",\n",
      "      \"batch_id\": \"datasource_fp1-asset_used_car\"\n",
      "    },\n",
      "    \"meta\": {}\n",
      "  },\n",
      "  \"result\": {\n",
      "    \"element_count\": 609,\n",
      "    \"unexpected_count\": 0,\n",
      "    \"unexpected_percent\": 0.0,\n",
      "    \"partial_unexpected_list\": []\n",
      "  },\n",
      "  \"meta\": {},\n",
      "  \"exception_info\": {\n",
      "    \"raised_exception\": false,\n",
      "    \"exception_traceback\": null,\n",
      "    \"exception_message\": null\n",
      "  }\n",
      "}\n"
     ]
    },
    {
     "data": {
      "application/vnd.jupyter.widget-view+json": {
       "model_id": "fa1d2abea1ad42718bbbca01948e6f4e",
       "version_major": 2,
       "version_minor": 0
      },
      "text/plain": [
       "Calculating Metrics:   0%|          | 0/6 [00:00<?, ?it/s]"
      ]
     },
     "metadata": {},
     "output_type": "display_data"
    },
    {
     "name": "stdout",
     "output_type": "stream",
     "text": [
      "{\n",
      "  \"success\": true,\n",
      "  \"expectation_config\": {\n",
      "    \"expectation_type\": \"expect_column_values_to_not_be_null\",\n",
      "    \"kwargs\": {\n",
      "      \"column\": \"transmisi\",\n",
      "      \"batch_id\": \"datasource_fp1-asset_used_car\"\n",
      "    },\n",
      "    \"meta\": {}\n",
      "  },\n",
      "  \"result\": {\n",
      "    \"element_count\": 609,\n",
      "    \"unexpected_count\": 0,\n",
      "    \"unexpected_percent\": 0.0,\n",
      "    \"partial_unexpected_list\": []\n",
      "  },\n",
      "  \"meta\": {},\n",
      "  \"exception_info\": {\n",
      "    \"raised_exception\": false,\n",
      "    \"exception_traceback\": null,\n",
      "    \"exception_message\": null\n",
      "  }\n",
      "}\n"
     ]
    },
    {
     "data": {
      "application/vnd.jupyter.widget-view+json": {
       "model_id": "f481d6e4f07e406db9942595c032724c",
       "version_major": 2,
       "version_minor": 0
      },
      "text/plain": [
       "Calculating Metrics:   0%|          | 0/6 [00:00<?, ?it/s]"
      ]
     },
     "metadata": {},
     "output_type": "display_data"
    },
    {
     "name": "stdout",
     "output_type": "stream",
     "text": [
      "{\n",
      "  \"success\": true,\n",
      "  \"expectation_config\": {\n",
      "    \"expectation_type\": \"expect_column_values_to_not_be_null\",\n",
      "    \"kwargs\": {\n",
      "      \"column\": \"plate_type\",\n",
      "      \"batch_id\": \"datasource_fp1-asset_used_car\"\n",
      "    },\n",
      "    \"meta\": {}\n",
      "  },\n",
      "  \"result\": {\n",
      "    \"element_count\": 609,\n",
      "    \"unexpected_count\": 0,\n",
      "    \"unexpected_percent\": 0.0,\n",
      "    \"partial_unexpected_list\": []\n",
      "  },\n",
      "  \"meta\": {},\n",
      "  \"exception_info\": {\n",
      "    \"raised_exception\": false,\n",
      "    \"exception_traceback\": null,\n",
      "    \"exception_message\": null\n",
      "  }\n",
      "}\n"
     ]
    },
    {
     "data": {
      "application/vnd.jupyter.widget-view+json": {
       "model_id": "de9ab83d056148fe8b920b59bd4b9a74",
       "version_major": 2,
       "version_minor": 0
      },
      "text/plain": [
       "Calculating Metrics:   0%|          | 0/6 [00:00<?, ?it/s]"
      ]
     },
     "metadata": {},
     "output_type": "display_data"
    },
    {
     "name": "stdout",
     "output_type": "stream",
     "text": [
      "{\n",
      "  \"success\": true,\n",
      "  \"expectation_config\": {\n",
      "    \"expectation_type\": \"expect_column_values_to_not_be_null\",\n",
      "    \"kwargs\": {\n",
      "      \"column\": \"rear_camera\",\n",
      "      \"batch_id\": \"datasource_fp1-asset_used_car\"\n",
      "    },\n",
      "    \"meta\": {}\n",
      "  },\n",
      "  \"result\": {\n",
      "    \"element_count\": 609,\n",
      "    \"unexpected_count\": 0,\n",
      "    \"unexpected_percent\": 0.0,\n",
      "    \"partial_unexpected_list\": []\n",
      "  },\n",
      "  \"meta\": {},\n",
      "  \"exception_info\": {\n",
      "    \"raised_exception\": false,\n",
      "    \"exception_traceback\": null,\n",
      "    \"exception_message\": null\n",
      "  }\n",
      "}\n"
     ]
    },
    {
     "data": {
      "application/vnd.jupyter.widget-view+json": {
       "model_id": "3576347a9fe64661b4b15f40c81b0602",
       "version_major": 2,
       "version_minor": 0
      },
      "text/plain": [
       "Calculating Metrics:   0%|          | 0/6 [00:00<?, ?it/s]"
      ]
     },
     "metadata": {},
     "output_type": "display_data"
    },
    {
     "name": "stdout",
     "output_type": "stream",
     "text": [
      "{\n",
      "  \"success\": true,\n",
      "  \"expectation_config\": {\n",
      "    \"expectation_type\": \"expect_column_values_to_not_be_null\",\n",
      "    \"kwargs\": {\n",
      "      \"column\": \"sun_roof\",\n",
      "      \"batch_id\": \"datasource_fp1-asset_used_car\"\n",
      "    },\n",
      "    \"meta\": {}\n",
      "  },\n",
      "  \"result\": {\n",
      "    \"element_count\": 609,\n",
      "    \"unexpected_count\": 0,\n",
      "    \"unexpected_percent\": 0.0,\n",
      "    \"partial_unexpected_list\": []\n",
      "  },\n",
      "  \"meta\": {},\n",
      "  \"exception_info\": {\n",
      "    \"raised_exception\": false,\n",
      "    \"exception_traceback\": null,\n",
      "    \"exception_message\": null\n",
      "  }\n",
      "}\n"
     ]
    },
    {
     "data": {
      "application/vnd.jupyter.widget-view+json": {
       "model_id": "96f5c25c767f44ff97c552662ec9cfa4",
       "version_major": 2,
       "version_minor": 0
      },
      "text/plain": [
       "Calculating Metrics:   0%|          | 0/6 [00:00<?, ?it/s]"
      ]
     },
     "metadata": {},
     "output_type": "display_data"
    },
    {
     "name": "stdout",
     "output_type": "stream",
     "text": [
      "{\n",
      "  \"success\": true,\n",
      "  \"expectation_config\": {\n",
      "    \"expectation_type\": \"expect_column_values_to_not_be_null\",\n",
      "    \"kwargs\": {\n",
      "      \"column\": \"auto_retract_mirror\",\n",
      "      \"batch_id\": \"datasource_fp1-asset_used_car\"\n",
      "    },\n",
      "    \"meta\": {}\n",
      "  },\n",
      "  \"result\": {\n",
      "    \"element_count\": 609,\n",
      "    \"unexpected_count\": 0,\n",
      "    \"unexpected_percent\": 0.0,\n",
      "    \"partial_unexpected_list\": []\n",
      "  },\n",
      "  \"meta\": {},\n",
      "  \"exception_info\": {\n",
      "    \"raised_exception\": false,\n",
      "    \"exception_traceback\": null,\n",
      "    \"exception_message\": null\n",
      "  }\n",
      "}\n"
     ]
    },
    {
     "data": {
      "application/vnd.jupyter.widget-view+json": {
       "model_id": "562f7b322d794bed9570d6d79e0fda20",
       "version_major": 2,
       "version_minor": 0
      },
      "text/plain": [
       "Calculating Metrics:   0%|          | 0/6 [00:00<?, ?it/s]"
      ]
     },
     "metadata": {},
     "output_type": "display_data"
    },
    {
     "name": "stdout",
     "output_type": "stream",
     "text": [
      "{\n",
      "  \"success\": true,\n",
      "  \"expectation_config\": {\n",
      "    \"expectation_type\": \"expect_column_values_to_not_be_null\",\n",
      "    \"kwargs\": {\n",
      "      \"column\": \"electric_parking_brake\",\n",
      "      \"batch_id\": \"datasource_fp1-asset_used_car\"\n",
      "    },\n",
      "    \"meta\": {}\n",
      "  },\n",
      "  \"result\": {\n",
      "    \"element_count\": 609,\n",
      "    \"unexpected_count\": 0,\n",
      "    \"unexpected_percent\": 0.0,\n",
      "    \"partial_unexpected_list\": []\n",
      "  },\n",
      "  \"meta\": {},\n",
      "  \"exception_info\": {\n",
      "    \"raised_exception\": false,\n",
      "    \"exception_traceback\": null,\n",
      "    \"exception_message\": null\n",
      "  }\n",
      "}\n"
     ]
    },
    {
     "data": {
      "application/vnd.jupyter.widget-view+json": {
       "model_id": "3bf7e4db0ff74fbebd889fecbd480693",
       "version_major": 2,
       "version_minor": 0
      },
      "text/plain": [
       "Calculating Metrics:   0%|          | 0/6 [00:00<?, ?it/s]"
      ]
     },
     "metadata": {},
     "output_type": "display_data"
    },
    {
     "name": "stdout",
     "output_type": "stream",
     "text": [
      "{\n",
      "  \"success\": true,\n",
      "  \"expectation_config\": {\n",
      "    \"expectation_type\": \"expect_column_values_to_not_be_null\",\n",
      "    \"kwargs\": {\n",
      "      \"column\": \"map_navigator\",\n",
      "      \"batch_id\": \"datasource_fp1-asset_used_car\"\n",
      "    },\n",
      "    \"meta\": {}\n",
      "  },\n",
      "  \"result\": {\n",
      "    \"element_count\": 609,\n",
      "    \"unexpected_count\": 0,\n",
      "    \"unexpected_percent\": 0.0,\n",
      "    \"partial_unexpected_list\": []\n",
      "  },\n",
      "  \"meta\": {},\n",
      "  \"exception_info\": {\n",
      "    \"raised_exception\": false,\n",
      "    \"exception_traceback\": null,\n",
      "    \"exception_message\": null\n",
      "  }\n",
      "}\n"
     ]
    },
    {
     "data": {
      "application/vnd.jupyter.widget-view+json": {
       "model_id": "68bae2d9fc9a4b068c7a619c215b73bc",
       "version_major": 2,
       "version_minor": 0
      },
      "text/plain": [
       "Calculating Metrics:   0%|          | 0/6 [00:00<?, ?it/s]"
      ]
     },
     "metadata": {},
     "output_type": "display_data"
    },
    {
     "name": "stdout",
     "output_type": "stream",
     "text": [
      "{\n",
      "  \"success\": true,\n",
      "  \"expectation_config\": {\n",
      "    \"expectation_type\": \"expect_column_values_to_not_be_null\",\n",
      "    \"kwargs\": {\n",
      "      \"column\": \"vehicle_stability_control\",\n",
      "      \"batch_id\": \"datasource_fp1-asset_used_car\"\n",
      "    },\n",
      "    \"meta\": {}\n",
      "  },\n",
      "  \"result\": {\n",
      "    \"element_count\": 609,\n",
      "    \"unexpected_count\": 0,\n",
      "    \"unexpected_percent\": 0.0,\n",
      "    \"partial_unexpected_list\": []\n",
      "  },\n",
      "  \"meta\": {},\n",
      "  \"exception_info\": {\n",
      "    \"raised_exception\": false,\n",
      "    \"exception_traceback\": null,\n",
      "    \"exception_message\": null\n",
      "  }\n",
      "}\n"
     ]
    },
    {
     "data": {
      "application/vnd.jupyter.widget-view+json": {
       "model_id": "c01625e728134c36beaeac0ffaf18d0a",
       "version_major": 2,
       "version_minor": 0
      },
      "text/plain": [
       "Calculating Metrics:   0%|          | 0/6 [00:00<?, ?it/s]"
      ]
     },
     "metadata": {},
     "output_type": "display_data"
    },
    {
     "name": "stdout",
     "output_type": "stream",
     "text": [
      "{\n",
      "  \"success\": true,\n",
      "  \"expectation_config\": {\n",
      "    \"expectation_type\": \"expect_column_values_to_not_be_null\",\n",
      "    \"kwargs\": {\n",
      "      \"column\": \"keyless_push_start\",\n",
      "      \"batch_id\": \"datasource_fp1-asset_used_car\"\n",
      "    },\n",
      "    \"meta\": {}\n",
      "  },\n",
      "  \"result\": {\n",
      "    \"element_count\": 609,\n",
      "    \"unexpected_count\": 0,\n",
      "    \"unexpected_percent\": 0.0,\n",
      "    \"partial_unexpected_list\": []\n",
      "  },\n",
      "  \"meta\": {},\n",
      "  \"exception_info\": {\n",
      "    \"raised_exception\": false,\n",
      "    \"exception_traceback\": null,\n",
      "    \"exception_message\": null\n",
      "  }\n",
      "}\n"
     ]
    },
    {
     "data": {
      "application/vnd.jupyter.widget-view+json": {
       "model_id": "6737c2cba997472491c3b347a98949fc",
       "version_major": 2,
       "version_minor": 0
      },
      "text/plain": [
       "Calculating Metrics:   0%|          | 0/6 [00:00<?, ?it/s]"
      ]
     },
     "metadata": {},
     "output_type": "display_data"
    },
    {
     "name": "stdout",
     "output_type": "stream",
     "text": [
      "{\n",
      "  \"success\": true,\n",
      "  \"expectation_config\": {\n",
      "    \"expectation_type\": \"expect_column_values_to_not_be_null\",\n",
      "    \"kwargs\": {\n",
      "      \"column\": \"sports_mode\",\n",
      "      \"batch_id\": \"datasource_fp1-asset_used_car\"\n",
      "    },\n",
      "    \"meta\": {}\n",
      "  },\n",
      "  \"result\": {\n",
      "    \"element_count\": 609,\n",
      "    \"unexpected_count\": 0,\n",
      "    \"unexpected_percent\": 0.0,\n",
      "    \"partial_unexpected_list\": []\n",
      "  },\n",
      "  \"meta\": {},\n",
      "  \"exception_info\": {\n",
      "    \"raised_exception\": false,\n",
      "    \"exception_traceback\": null,\n",
      "    \"exception_message\": null\n",
      "  }\n",
      "}\n"
     ]
    },
    {
     "data": {
      "application/vnd.jupyter.widget-view+json": {
       "model_id": "ebcab737d999491d9043768d4f84501b",
       "version_major": 2,
       "version_minor": 0
      },
      "text/plain": [
       "Calculating Metrics:   0%|          | 0/6 [00:00<?, ?it/s]"
      ]
     },
     "metadata": {},
     "output_type": "display_data"
    },
    {
     "name": "stdout",
     "output_type": "stream",
     "text": [
      "{\n",
      "  \"success\": true,\n",
      "  \"expectation_config\": {\n",
      "    \"expectation_type\": \"expect_column_values_to_not_be_null\",\n",
      "    \"kwargs\": {\n",
      "      \"column\": \"360_camera_view\",\n",
      "      \"batch_id\": \"datasource_fp1-asset_used_car\"\n",
      "    },\n",
      "    \"meta\": {}\n",
      "  },\n",
      "  \"result\": {\n",
      "    \"element_count\": 609,\n",
      "    \"unexpected_count\": 0,\n",
      "    \"unexpected_percent\": 0.0,\n",
      "    \"partial_unexpected_list\": []\n",
      "  },\n",
      "  \"meta\": {},\n",
      "  \"exception_info\": {\n",
      "    \"raised_exception\": false,\n",
      "    \"exception_traceback\": null,\n",
      "    \"exception_message\": null\n",
      "  }\n",
      "}\n"
     ]
    },
    {
     "data": {
      "application/vnd.jupyter.widget-view+json": {
       "model_id": "c0bfb82f51d6474f9fded963410b857d",
       "version_major": 2,
       "version_minor": 0
      },
      "text/plain": [
       "Calculating Metrics:   0%|          | 0/6 [00:00<?, ?it/s]"
      ]
     },
     "metadata": {},
     "output_type": "display_data"
    },
    {
     "name": "stdout",
     "output_type": "stream",
     "text": [
      "{\n",
      "  \"success\": true,\n",
      "  \"expectation_config\": {\n",
      "    \"expectation_type\": \"expect_column_values_to_not_be_null\",\n",
      "    \"kwargs\": {\n",
      "      \"column\": \"power_sliding_door\",\n",
      "      \"batch_id\": \"datasource_fp1-asset_used_car\"\n",
      "    },\n",
      "    \"meta\": {}\n",
      "  },\n",
      "  \"result\": {\n",
      "    \"element_count\": 609,\n",
      "    \"unexpected_count\": 0,\n",
      "    \"unexpected_percent\": 0.0,\n",
      "    \"partial_unexpected_list\": []\n",
      "  },\n",
      "  \"meta\": {},\n",
      "  \"exception_info\": {\n",
      "    \"raised_exception\": false,\n",
      "    \"exception_traceback\": null,\n",
      "    \"exception_message\": null\n",
      "  }\n",
      "}\n"
     ]
    },
    {
     "data": {
      "application/vnd.jupyter.widget-view+json": {
       "model_id": "e2379e6b78b24375994e84174ddf83c6",
       "version_major": 2,
       "version_minor": 0
      },
      "text/plain": [
       "Calculating Metrics:   0%|          | 0/6 [00:00<?, ?it/s]"
      ]
     },
     "metadata": {},
     "output_type": "display_data"
    },
    {
     "name": "stdout",
     "output_type": "stream",
     "text": [
      "{\n",
      "  \"success\": true,\n",
      "  \"expectation_config\": {\n",
      "    \"expectation_type\": \"expect_column_values_to_not_be_null\",\n",
      "    \"kwargs\": {\n",
      "      \"column\": \"auto_cruise_control\",\n",
      "      \"batch_id\": \"datasource_fp1-asset_used_car\"\n",
      "    },\n",
      "    \"meta\": {}\n",
      "  },\n",
      "  \"result\": {\n",
      "    \"element_count\": 609,\n",
      "    \"unexpected_count\": 0,\n",
      "    \"unexpected_percent\": 0.0,\n",
      "    \"partial_unexpected_list\": []\n",
      "  },\n",
      "  \"meta\": {},\n",
      "  \"exception_info\": {\n",
      "    \"raised_exception\": false,\n",
      "    \"exception_traceback\": null,\n",
      "    \"exception_message\": null\n",
      "  }\n",
      "}\n"
     ]
    },
    {
     "data": {
      "application/vnd.jupyter.widget-view+json": {
       "model_id": "f812cf9516414544a2c1e6b77b604bde",
       "version_major": 2,
       "version_minor": 0
      },
      "text/plain": [
       "Calculating Metrics:   0%|          | 0/6 [00:00<?, ?it/s]"
      ]
     },
     "metadata": {},
     "output_type": "display_data"
    },
    {
     "name": "stdout",
     "output_type": "stream",
     "text": [
      "{\n",
      "  \"success\": true,\n",
      "  \"expectation_config\": {\n",
      "    \"expectation_type\": \"expect_column_values_to_not_be_null\",\n",
      "    \"kwargs\": {\n",
      "      \"column\": \"harga_(Rp)\",\n",
      "      \"batch_id\": \"datasource_fp1-asset_used_car\"\n",
      "    },\n",
      "    \"meta\": {}\n",
      "  },\n",
      "  \"result\": {\n",
      "    \"element_count\": 609,\n",
      "    \"unexpected_count\": 0,\n",
      "    \"unexpected_percent\": 0.0,\n",
      "    \"partial_unexpected_list\": []\n",
      "  },\n",
      "  \"meta\": {},\n",
      "  \"exception_info\": {\n",
      "    \"raised_exception\": false,\n",
      "    \"exception_traceback\": null,\n",
      "    \"exception_message\": null\n",
      "  }\n",
      "}\n"
     ]
    },
    {
     "data": {
      "application/vnd.jupyter.widget-view+json": {
       "model_id": "d0687de7160944128b5b016a2412b391",
       "version_major": 2,
       "version_minor": 0
      },
      "text/plain": [
       "Calculating Metrics:   0%|          | 0/6 [00:00<?, ?it/s]"
      ]
     },
     "metadata": {},
     "output_type": "display_data"
    },
    {
     "name": "stdout",
     "output_type": "stream",
     "text": [
      "{\n",
      "  \"success\": true,\n",
      "  \"expectation_config\": {\n",
      "    \"expectation_type\": \"expect_column_values_to_not_be_null\",\n",
      "    \"kwargs\": {\n",
      "      \"column\": \"cicilan_(Rp/month)\",\n",
      "      \"batch_id\": \"datasource_fp1-asset_used_car\"\n",
      "    },\n",
      "    \"meta\": {}\n",
      "  },\n",
      "  \"result\": {\n",
      "    \"element_count\": 609,\n",
      "    \"unexpected_count\": 0,\n",
      "    \"unexpected_percent\": 0.0,\n",
      "    \"partial_unexpected_list\": []\n",
      "  },\n",
      "  \"meta\": {},\n",
      "  \"exception_info\": {\n",
      "    \"raised_exception\": false,\n",
      "    \"exception_traceback\": null,\n",
      "    \"exception_message\": null\n",
      "  }\n",
      "}\n"
     ]
    },
    {
     "data": {
      "application/vnd.jupyter.widget-view+json": {
       "model_id": "f0a06721c700480682dc426124d0ddd4",
       "version_major": 2,
       "version_minor": 0
      },
      "text/plain": [
       "Calculating Metrics:   0%|          | 0/6 [00:00<?, ?it/s]"
      ]
     },
     "metadata": {},
     "output_type": "display_data"
    },
    {
     "name": "stdout",
     "output_type": "stream",
     "text": [
      "{\n",
      "  \"success\": true,\n",
      "  \"expectation_config\": {\n",
      "    \"expectation_type\": \"expect_column_values_to_not_be_null\",\n",
      "    \"kwargs\": {\n",
      "      \"column\": \"combined_info\",\n",
      "      \"batch_id\": \"datasource_fp1-asset_used_car\"\n",
      "    },\n",
      "    \"meta\": {}\n",
      "  },\n",
      "  \"result\": {\n",
      "    \"element_count\": 609,\n",
      "    \"unexpected_count\": 0,\n",
      "    \"unexpected_percent\": 0.0,\n",
      "    \"partial_unexpected_list\": []\n",
      "  },\n",
      "  \"meta\": {},\n",
      "  \"exception_info\": {\n",
      "    \"raised_exception\": false,\n",
      "    \"exception_traceback\": null,\n",
      "    \"exception_message\": null\n",
      "  }\n",
      "}\n"
     ]
    }
   ],
   "source": [
    "for i in dfUC.columns :\n",
    "   print( validator_uc.expect_column_values_to_not_be_null(i))"
   ]
  },
  {
   "cell_type": "markdown",
   "metadata": {},
   "source": [
    "#### 5.1.2. Expectation 2 : Nilai pada kolom combined_info harus unique"
   ]
  },
  {
   "cell_type": "code",
   "execution_count": 55,
   "metadata": {},
   "outputs": [
    {
     "data": {
      "application/vnd.jupyter.widget-view+json": {
       "model_id": "0970bab6ca4e4123b56c4c4bd8b6ef4d",
       "version_major": 2,
       "version_minor": 0
      },
      "text/plain": [
       "Calculating Metrics:   0%|          | 0/8 [00:00<?, ?it/s]"
      ]
     },
     "metadata": {},
     "output_type": "display_data"
    },
    {
     "data": {
      "text/plain": [
       "{\n",
       "  \"success\": true,\n",
       "  \"result\": {\n",
       "    \"element_count\": 609,\n",
       "    \"unexpected_count\": 0,\n",
       "    \"unexpected_percent\": 0.0,\n",
       "    \"partial_unexpected_list\": [],\n",
       "    \"missing_count\": 0,\n",
       "    \"missing_percent\": 0.0,\n",
       "    \"unexpected_percent_total\": 0.0,\n",
       "    \"unexpected_percent_nonmissing\": 0.0\n",
       "  },\n",
       "  \"meta\": {},\n",
       "  \"exception_info\": {\n",
       "    \"raised_exception\": false,\n",
       "    \"exception_traceback\": null,\n",
       "    \"exception_message\": null\n",
       "  }\n",
       "}"
      ]
     },
     "execution_count": 55,
     "metadata": {},
     "output_type": "execute_result"
    }
   ],
   "source": [
    "validator_uc.expect_column_values_to_be_unique('combined_info')"
   ]
  },
  {
   "cell_type": "markdown",
   "metadata": {},
   "source": [
    "#### 5.1.3. Expectation 2 : Nama dan jumlah kolom harus sesuai dengan data yang dibutuhkan "
   ]
  },
  {
   "cell_type": "code",
   "execution_count": 56,
   "metadata": {},
   "outputs": [],
   "source": [
    "# list_col = []\n",
    "# for i in dfUC.columns :\n",
    "#     list_col.append(i)"
   ]
  },
  {
   "cell_type": "code",
   "execution_count": 58,
   "metadata": {},
   "outputs": [
    {
     "data": {
      "text/plain": [
       "['nama_mobil',\n",
       " 'brand',\n",
       " 'tahun_rilis',\n",
       " 'jarak_tempuh(km)',\n",
       " 'location',\n",
       " 'transmisi',\n",
       " 'plate_type',\n",
       " 'rear_camera',\n",
       " 'sun_roof',\n",
       " 'auto_retract_mirror',\n",
       " 'electric_parking_brake',\n",
       " 'map_navigator',\n",
       " 'vehicle_stability_control',\n",
       " 'keyless_push_start',\n",
       " 'sports_mode',\n",
       " '360_camera_view',\n",
       " 'power_sliding_door',\n",
       " 'auto_cruise_control',\n",
       " 'harga_(Rp)',\n",
       " 'cicilan_(Rp/month)',\n",
       " 'combined_info']"
      ]
     },
     "execution_count": 58,
     "metadata": {},
     "output_type": "execute_result"
    }
   ],
   "source": [
    "# list_col"
   ]
  },
  {
   "cell_type": "code",
   "execution_count": 59,
   "metadata": {},
   "outputs": [
    {
     "data": {
      "application/vnd.jupyter.widget-view+json": {
       "model_id": "41bd9b98e8bf4784bd97de1a2d395174",
       "version_major": 2,
       "version_minor": 0
      },
      "text/plain": [
       "Calculating Metrics:   0%|          | 0/2 [00:00<?, ?it/s]"
      ]
     },
     "metadata": {},
     "output_type": "display_data"
    },
    {
     "data": {
      "text/plain": [
       "{\n",
       "  \"success\": true,\n",
       "  \"result\": {\n",
       "    \"observed_value\": [\n",
       "      \"nama_mobil\",\n",
       "      \"brand\",\n",
       "      \"tahun_rilis\",\n",
       "      \"jarak_tempuh(km)\",\n",
       "      \"location\",\n",
       "      \"transmisi\",\n",
       "      \"plate_type\",\n",
       "      \"rear_camera\",\n",
       "      \"sun_roof\",\n",
       "      \"auto_retract_mirror\",\n",
       "      \"electric_parking_brake\",\n",
       "      \"map_navigator\",\n",
       "      \"vehicle_stability_control\",\n",
       "      \"keyless_push_start\",\n",
       "      \"sports_mode\",\n",
       "      \"360_camera_view\",\n",
       "      \"power_sliding_door\",\n",
       "      \"auto_cruise_control\",\n",
       "      \"harga_(Rp)\",\n",
       "      \"cicilan_(Rp/month)\",\n",
       "      \"combined_info\"\n",
       "    ]\n",
       "  },\n",
       "  \"meta\": {},\n",
       "  \"exception_info\": {\n",
       "    \"raised_exception\": false,\n",
       "    \"exception_traceback\": null,\n",
       "    \"exception_message\": null\n",
       "  }\n",
       "}"
      ]
     },
     "execution_count": 59,
     "metadata": {},
     "output_type": "execute_result"
    }
   ],
   "source": [
    "validator_uc.expect_table_columns_to_match_set(column_set = ['nama_mobil',\n",
    " 'brand',\n",
    " 'tahun_rilis',\n",
    " 'jarak_tempuh(km)',\n",
    " 'location',\n",
    " 'transmisi',\n",
    " 'plate_type',\n",
    " 'rear_camera',\n",
    " 'sun_roof',\n",
    " 'auto_retract_mirror',\n",
    " 'electric_parking_brake',\n",
    " 'map_navigator',\n",
    " 'vehicle_stability_control',\n",
    " 'keyless_push_start',\n",
    " 'sports_mode',\n",
    " '360_camera_view',\n",
    " 'power_sliding_door',\n",
    " 'auto_cruise_control',\n",
    " 'harga_(Rp)',\n",
    " 'cicilan_(Rp/month)',\n",
    " 'combined_info'])"
   ]
  },
  {
   "cell_type": "markdown",
   "metadata": {},
   "source": [
    "#### 5.1.4. Expectation 3 : Nilai pada kolom-kolom yang menerangkan fitur mobil hanya memiliki 2 kemungkinan nilai"
   ]
  },
  {
   "cell_type": "code",
   "execution_count": 60,
   "metadata": {},
   "outputs": [],
   "source": [
    "list_fitur = [\n",
    " 'rear_camera',\n",
    " 'sun_roof',\n",
    " 'auto_retract_mirror',\n",
    " 'electric_parking_brake',\n",
    " 'map_navigator',\n",
    " 'vehicle_stability_control',\n",
    " 'keyless_push_start',\n",
    " 'sports_mode',\n",
    " '360_camera_view',\n",
    " 'power_sliding_door',\n",
    " 'auto_cruise_control']"
   ]
  },
  {
   "cell_type": "code",
   "execution_count": 61,
   "metadata": {},
   "outputs": [],
   "source": [
    "list_val = ['Tidak ada atau tidak memiliki', 'Ada atau memiliki']"
   ]
  },
  {
   "cell_type": "code",
   "execution_count": 63,
   "metadata": {},
   "outputs": [
    {
     "data": {
      "application/vnd.jupyter.widget-view+json": {
       "model_id": "a56cb2f7e535461cbb4e5d7475e57580",
       "version_major": 2,
       "version_minor": 0
      },
      "text/plain": [
       "Calculating Metrics:   0%|          | 0/8 [00:00<?, ?it/s]"
      ]
     },
     "metadata": {},
     "output_type": "display_data"
    },
    {
     "name": "stdout",
     "output_type": "stream",
     "text": [
      "{\n",
      "  \"success\": true,\n",
      "  \"expectation_config\": {\n",
      "    \"expectation_type\": \"expect_column_values_to_be_in_set\",\n",
      "    \"kwargs\": {\n",
      "      \"column\": \"rear_camera\",\n",
      "      \"value_set\": [\n",
      "        \"Tidak ada atau tidak memiliki\",\n",
      "        \"Ada atau memiliki\"\n",
      "      ],\n",
      "      \"batch_id\": \"datasource_fp1-asset_used_car\"\n",
      "    },\n",
      "    \"meta\": {}\n",
      "  },\n",
      "  \"result\": {\n",
      "    \"element_count\": 609,\n",
      "    \"unexpected_count\": 0,\n",
      "    \"unexpected_percent\": 0.0,\n",
      "    \"partial_unexpected_list\": [],\n",
      "    \"missing_count\": 0,\n",
      "    \"missing_percent\": 0.0,\n",
      "    \"unexpected_percent_total\": 0.0,\n",
      "    \"unexpected_percent_nonmissing\": 0.0\n",
      "  },\n",
      "  \"meta\": {},\n",
      "  \"exception_info\": {\n",
      "    \"raised_exception\": false,\n",
      "    \"exception_traceback\": null,\n",
      "    \"exception_message\": null\n",
      "  }\n",
      "}\n"
     ]
    },
    {
     "data": {
      "application/vnd.jupyter.widget-view+json": {
       "model_id": "5ed9975da84b46e8b043bacaee68ac30",
       "version_major": 2,
       "version_minor": 0
      },
      "text/plain": [
       "Calculating Metrics:   0%|          | 0/8 [00:00<?, ?it/s]"
      ]
     },
     "metadata": {},
     "output_type": "display_data"
    },
    {
     "name": "stdout",
     "output_type": "stream",
     "text": [
      "{\n",
      "  \"success\": true,\n",
      "  \"expectation_config\": {\n",
      "    \"expectation_type\": \"expect_column_values_to_be_in_set\",\n",
      "    \"kwargs\": {\n",
      "      \"column\": \"sun_roof\",\n",
      "      \"value_set\": [\n",
      "        \"Tidak ada atau tidak memiliki\",\n",
      "        \"Ada atau memiliki\"\n",
      "      ],\n",
      "      \"batch_id\": \"datasource_fp1-asset_used_car\"\n",
      "    },\n",
      "    \"meta\": {}\n",
      "  },\n",
      "  \"result\": {\n",
      "    \"element_count\": 609,\n",
      "    \"unexpected_count\": 0,\n",
      "    \"unexpected_percent\": 0.0,\n",
      "    \"partial_unexpected_list\": [],\n",
      "    \"missing_count\": 0,\n",
      "    \"missing_percent\": 0.0,\n",
      "    \"unexpected_percent_total\": 0.0,\n",
      "    \"unexpected_percent_nonmissing\": 0.0\n",
      "  },\n",
      "  \"meta\": {},\n",
      "  \"exception_info\": {\n",
      "    \"raised_exception\": false,\n",
      "    \"exception_traceback\": null,\n",
      "    \"exception_message\": null\n",
      "  }\n",
      "}\n"
     ]
    },
    {
     "data": {
      "application/vnd.jupyter.widget-view+json": {
       "model_id": "6386a49d09d2469d846f9ebb5b1002bb",
       "version_major": 2,
       "version_minor": 0
      },
      "text/plain": [
       "Calculating Metrics:   0%|          | 0/8 [00:00<?, ?it/s]"
      ]
     },
     "metadata": {},
     "output_type": "display_data"
    },
    {
     "name": "stdout",
     "output_type": "stream",
     "text": [
      "{\n",
      "  \"success\": true,\n",
      "  \"expectation_config\": {\n",
      "    \"expectation_type\": \"expect_column_values_to_be_in_set\",\n",
      "    \"kwargs\": {\n",
      "      \"column\": \"auto_retract_mirror\",\n",
      "      \"value_set\": [\n",
      "        \"Tidak ada atau tidak memiliki\",\n",
      "        \"Ada atau memiliki\"\n",
      "      ],\n",
      "      \"batch_id\": \"datasource_fp1-asset_used_car\"\n",
      "    },\n",
      "    \"meta\": {}\n",
      "  },\n",
      "  \"result\": {\n",
      "    \"element_count\": 609,\n",
      "    \"unexpected_count\": 0,\n",
      "    \"unexpected_percent\": 0.0,\n",
      "    \"partial_unexpected_list\": [],\n",
      "    \"missing_count\": 0,\n",
      "    \"missing_percent\": 0.0,\n",
      "    \"unexpected_percent_total\": 0.0,\n",
      "    \"unexpected_percent_nonmissing\": 0.0\n",
      "  },\n",
      "  \"meta\": {},\n",
      "  \"exception_info\": {\n",
      "    \"raised_exception\": false,\n",
      "    \"exception_traceback\": null,\n",
      "    \"exception_message\": null\n",
      "  }\n",
      "}\n"
     ]
    },
    {
     "data": {
      "application/vnd.jupyter.widget-view+json": {
       "model_id": "abc5fbc32a754c47bc10f33dd16b4364",
       "version_major": 2,
       "version_minor": 0
      },
      "text/plain": [
       "Calculating Metrics:   0%|          | 0/8 [00:00<?, ?it/s]"
      ]
     },
     "metadata": {},
     "output_type": "display_data"
    },
    {
     "name": "stdout",
     "output_type": "stream",
     "text": [
      "{\n",
      "  \"success\": true,\n",
      "  \"expectation_config\": {\n",
      "    \"expectation_type\": \"expect_column_values_to_be_in_set\",\n",
      "    \"kwargs\": {\n",
      "      \"column\": \"electric_parking_brake\",\n",
      "      \"value_set\": [\n",
      "        \"Tidak ada atau tidak memiliki\",\n",
      "        \"Ada atau memiliki\"\n",
      "      ],\n",
      "      \"batch_id\": \"datasource_fp1-asset_used_car\"\n",
      "    },\n",
      "    \"meta\": {}\n",
      "  },\n",
      "  \"result\": {\n",
      "    \"element_count\": 609,\n",
      "    \"unexpected_count\": 0,\n",
      "    \"unexpected_percent\": 0.0,\n",
      "    \"partial_unexpected_list\": [],\n",
      "    \"missing_count\": 0,\n",
      "    \"missing_percent\": 0.0,\n",
      "    \"unexpected_percent_total\": 0.0,\n",
      "    \"unexpected_percent_nonmissing\": 0.0\n",
      "  },\n",
      "  \"meta\": {},\n",
      "  \"exception_info\": {\n",
      "    \"raised_exception\": false,\n",
      "    \"exception_traceback\": null,\n",
      "    \"exception_message\": null\n",
      "  }\n",
      "}\n"
     ]
    },
    {
     "data": {
      "application/vnd.jupyter.widget-view+json": {
       "model_id": "0d5bf21f189a4d22934bb8bfdd2b5b47",
       "version_major": 2,
       "version_minor": 0
      },
      "text/plain": [
       "Calculating Metrics:   0%|          | 0/8 [00:00<?, ?it/s]"
      ]
     },
     "metadata": {},
     "output_type": "display_data"
    },
    {
     "name": "stdout",
     "output_type": "stream",
     "text": [
      "{\n",
      "  \"success\": true,\n",
      "  \"expectation_config\": {\n",
      "    \"expectation_type\": \"expect_column_values_to_be_in_set\",\n",
      "    \"kwargs\": {\n",
      "      \"column\": \"map_navigator\",\n",
      "      \"value_set\": [\n",
      "        \"Tidak ada atau tidak memiliki\",\n",
      "        \"Ada atau memiliki\"\n",
      "      ],\n",
      "      \"batch_id\": \"datasource_fp1-asset_used_car\"\n",
      "    },\n",
      "    \"meta\": {}\n",
      "  },\n",
      "  \"result\": {\n",
      "    \"element_count\": 609,\n",
      "    \"unexpected_count\": 0,\n",
      "    \"unexpected_percent\": 0.0,\n",
      "    \"partial_unexpected_list\": [],\n",
      "    \"missing_count\": 0,\n",
      "    \"missing_percent\": 0.0,\n",
      "    \"unexpected_percent_total\": 0.0,\n",
      "    \"unexpected_percent_nonmissing\": 0.0\n",
      "  },\n",
      "  \"meta\": {},\n",
      "  \"exception_info\": {\n",
      "    \"raised_exception\": false,\n",
      "    \"exception_traceback\": null,\n",
      "    \"exception_message\": null\n",
      "  }\n",
      "}\n"
     ]
    },
    {
     "data": {
      "application/vnd.jupyter.widget-view+json": {
       "model_id": "e03bcf10a62d4eeab39b5b17a920bbef",
       "version_major": 2,
       "version_minor": 0
      },
      "text/plain": [
       "Calculating Metrics:   0%|          | 0/8 [00:00<?, ?it/s]"
      ]
     },
     "metadata": {},
     "output_type": "display_data"
    },
    {
     "name": "stdout",
     "output_type": "stream",
     "text": [
      "{\n",
      "  \"success\": true,\n",
      "  \"expectation_config\": {\n",
      "    \"expectation_type\": \"expect_column_values_to_be_in_set\",\n",
      "    \"kwargs\": {\n",
      "      \"column\": \"vehicle_stability_control\",\n",
      "      \"value_set\": [\n",
      "        \"Tidak ada atau tidak memiliki\",\n",
      "        \"Ada atau memiliki\"\n",
      "      ],\n",
      "      \"batch_id\": \"datasource_fp1-asset_used_car\"\n",
      "    },\n",
      "    \"meta\": {}\n",
      "  },\n",
      "  \"result\": {\n",
      "    \"element_count\": 609,\n",
      "    \"unexpected_count\": 0,\n",
      "    \"unexpected_percent\": 0.0,\n",
      "    \"partial_unexpected_list\": [],\n",
      "    \"missing_count\": 0,\n",
      "    \"missing_percent\": 0.0,\n",
      "    \"unexpected_percent_total\": 0.0,\n",
      "    \"unexpected_percent_nonmissing\": 0.0\n",
      "  },\n",
      "  \"meta\": {},\n",
      "  \"exception_info\": {\n",
      "    \"raised_exception\": false,\n",
      "    \"exception_traceback\": null,\n",
      "    \"exception_message\": null\n",
      "  }\n",
      "}\n"
     ]
    },
    {
     "data": {
      "application/vnd.jupyter.widget-view+json": {
       "model_id": "a8c8742ee68e440fa2fd91187bb0f3d7",
       "version_major": 2,
       "version_minor": 0
      },
      "text/plain": [
       "Calculating Metrics:   0%|          | 0/8 [00:00<?, ?it/s]"
      ]
     },
     "metadata": {},
     "output_type": "display_data"
    },
    {
     "name": "stdout",
     "output_type": "stream",
     "text": [
      "{\n",
      "  \"success\": true,\n",
      "  \"expectation_config\": {\n",
      "    \"expectation_type\": \"expect_column_values_to_be_in_set\",\n",
      "    \"kwargs\": {\n",
      "      \"column\": \"keyless_push_start\",\n",
      "      \"value_set\": [\n",
      "        \"Tidak ada atau tidak memiliki\",\n",
      "        \"Ada atau memiliki\"\n",
      "      ],\n",
      "      \"batch_id\": \"datasource_fp1-asset_used_car\"\n",
      "    },\n",
      "    \"meta\": {}\n",
      "  },\n",
      "  \"result\": {\n",
      "    \"element_count\": 609,\n",
      "    \"unexpected_count\": 0,\n",
      "    \"unexpected_percent\": 0.0,\n",
      "    \"partial_unexpected_list\": [],\n",
      "    \"missing_count\": 0,\n",
      "    \"missing_percent\": 0.0,\n",
      "    \"unexpected_percent_total\": 0.0,\n",
      "    \"unexpected_percent_nonmissing\": 0.0\n",
      "  },\n",
      "  \"meta\": {},\n",
      "  \"exception_info\": {\n",
      "    \"raised_exception\": false,\n",
      "    \"exception_traceback\": null,\n",
      "    \"exception_message\": null\n",
      "  }\n",
      "}\n"
     ]
    },
    {
     "data": {
      "application/vnd.jupyter.widget-view+json": {
       "model_id": "e9ed99378efe4eb5968aa4ad2768a184",
       "version_major": 2,
       "version_minor": 0
      },
      "text/plain": [
       "Calculating Metrics:   0%|          | 0/8 [00:00<?, ?it/s]"
      ]
     },
     "metadata": {},
     "output_type": "display_data"
    },
    {
     "name": "stdout",
     "output_type": "stream",
     "text": [
      "{\n",
      "  \"success\": true,\n",
      "  \"expectation_config\": {\n",
      "    \"expectation_type\": \"expect_column_values_to_be_in_set\",\n",
      "    \"kwargs\": {\n",
      "      \"column\": \"sports_mode\",\n",
      "      \"value_set\": [\n",
      "        \"Tidak ada atau tidak memiliki\",\n",
      "        \"Ada atau memiliki\"\n",
      "      ],\n",
      "      \"batch_id\": \"datasource_fp1-asset_used_car\"\n",
      "    },\n",
      "    \"meta\": {}\n",
      "  },\n",
      "  \"result\": {\n",
      "    \"element_count\": 609,\n",
      "    \"unexpected_count\": 0,\n",
      "    \"unexpected_percent\": 0.0,\n",
      "    \"partial_unexpected_list\": [],\n",
      "    \"missing_count\": 0,\n",
      "    \"missing_percent\": 0.0,\n",
      "    \"unexpected_percent_total\": 0.0,\n",
      "    \"unexpected_percent_nonmissing\": 0.0\n",
      "  },\n",
      "  \"meta\": {},\n",
      "  \"exception_info\": {\n",
      "    \"raised_exception\": false,\n",
      "    \"exception_traceback\": null,\n",
      "    \"exception_message\": null\n",
      "  }\n",
      "}\n"
     ]
    },
    {
     "data": {
      "application/vnd.jupyter.widget-view+json": {
       "model_id": "6ef6a7319316451e8a180f14a6319441",
       "version_major": 2,
       "version_minor": 0
      },
      "text/plain": [
       "Calculating Metrics:   0%|          | 0/8 [00:00<?, ?it/s]"
      ]
     },
     "metadata": {},
     "output_type": "display_data"
    },
    {
     "name": "stdout",
     "output_type": "stream",
     "text": [
      "{\n",
      "  \"success\": true,\n",
      "  \"expectation_config\": {\n",
      "    \"expectation_type\": \"expect_column_values_to_be_in_set\",\n",
      "    \"kwargs\": {\n",
      "      \"column\": \"360_camera_view\",\n",
      "      \"value_set\": [\n",
      "        \"Tidak ada atau tidak memiliki\",\n",
      "        \"Ada atau memiliki\"\n",
      "      ],\n",
      "      \"batch_id\": \"datasource_fp1-asset_used_car\"\n",
      "    },\n",
      "    \"meta\": {}\n",
      "  },\n",
      "  \"result\": {\n",
      "    \"element_count\": 609,\n",
      "    \"unexpected_count\": 0,\n",
      "    \"unexpected_percent\": 0.0,\n",
      "    \"partial_unexpected_list\": [],\n",
      "    \"missing_count\": 0,\n",
      "    \"missing_percent\": 0.0,\n",
      "    \"unexpected_percent_total\": 0.0,\n",
      "    \"unexpected_percent_nonmissing\": 0.0\n",
      "  },\n",
      "  \"meta\": {},\n",
      "  \"exception_info\": {\n",
      "    \"raised_exception\": false,\n",
      "    \"exception_traceback\": null,\n",
      "    \"exception_message\": null\n",
      "  }\n",
      "}\n"
     ]
    },
    {
     "data": {
      "application/vnd.jupyter.widget-view+json": {
       "model_id": "333c9a9ff2084cd8bf295ea4f99c7cc0",
       "version_major": 2,
       "version_minor": 0
      },
      "text/plain": [
       "Calculating Metrics:   0%|          | 0/8 [00:00<?, ?it/s]"
      ]
     },
     "metadata": {},
     "output_type": "display_data"
    },
    {
     "name": "stdout",
     "output_type": "stream",
     "text": [
      "{\n",
      "  \"success\": true,\n",
      "  \"expectation_config\": {\n",
      "    \"expectation_type\": \"expect_column_values_to_be_in_set\",\n",
      "    \"kwargs\": {\n",
      "      \"column\": \"power_sliding_door\",\n",
      "      \"value_set\": [\n",
      "        \"Tidak ada atau tidak memiliki\",\n",
      "        \"Ada atau memiliki\"\n",
      "      ],\n",
      "      \"batch_id\": \"datasource_fp1-asset_used_car\"\n",
      "    },\n",
      "    \"meta\": {}\n",
      "  },\n",
      "  \"result\": {\n",
      "    \"element_count\": 609,\n",
      "    \"unexpected_count\": 0,\n",
      "    \"unexpected_percent\": 0.0,\n",
      "    \"partial_unexpected_list\": [],\n",
      "    \"missing_count\": 0,\n",
      "    \"missing_percent\": 0.0,\n",
      "    \"unexpected_percent_total\": 0.0,\n",
      "    \"unexpected_percent_nonmissing\": 0.0\n",
      "  },\n",
      "  \"meta\": {},\n",
      "  \"exception_info\": {\n",
      "    \"raised_exception\": false,\n",
      "    \"exception_traceback\": null,\n",
      "    \"exception_message\": null\n",
      "  }\n",
      "}\n"
     ]
    },
    {
     "data": {
      "application/vnd.jupyter.widget-view+json": {
       "model_id": "6355fa48579d4e23a4490737d23f8a42",
       "version_major": 2,
       "version_minor": 0
      },
      "text/plain": [
       "Calculating Metrics:   0%|          | 0/8 [00:00<?, ?it/s]"
      ]
     },
     "metadata": {},
     "output_type": "display_data"
    },
    {
     "name": "stdout",
     "output_type": "stream",
     "text": [
      "{\n",
      "  \"success\": true,\n",
      "  \"expectation_config\": {\n",
      "    \"expectation_type\": \"expect_column_values_to_be_in_set\",\n",
      "    \"kwargs\": {\n",
      "      \"column\": \"auto_cruise_control\",\n",
      "      \"value_set\": [\n",
      "        \"Tidak ada atau tidak memiliki\",\n",
      "        \"Ada atau memiliki\"\n",
      "      ],\n",
      "      \"batch_id\": \"datasource_fp1-asset_used_car\"\n",
      "    },\n",
      "    \"meta\": {}\n",
      "  },\n",
      "  \"result\": {\n",
      "    \"element_count\": 609,\n",
      "    \"unexpected_count\": 0,\n",
      "    \"unexpected_percent\": 0.0,\n",
      "    \"partial_unexpected_list\": [],\n",
      "    \"missing_count\": 0,\n",
      "    \"missing_percent\": 0.0,\n",
      "    \"unexpected_percent_total\": 0.0,\n",
      "    \"unexpected_percent_nonmissing\": 0.0\n",
      "  },\n",
      "  \"meta\": {},\n",
      "  \"exception_info\": {\n",
      "    \"raised_exception\": false,\n",
      "    \"exception_traceback\": null,\n",
      "    \"exception_message\": null\n",
      "  }\n",
      "}\n"
     ]
    }
   ],
   "source": [
    "for i in list_fitur :\n",
    "    print(validator_uc.expect_column_values_to_be_in_set(i,list_val))"
   ]
  },
  {
   "cell_type": "markdown",
   "metadata": {},
   "source": [
    "### 5.2. FAQ Dataset"
   ]
  },
  {
   "cell_type": "markdown",
   "metadata": {},
   "source": [
    "#### 5.2.1. Nilai pada kolom Quetion dan Answer harus unique"
   ]
  },
  {
   "cell_type": "code",
   "execution_count": 66,
   "metadata": {},
   "outputs": [
    {
     "data": {
      "application/vnd.jupyter.widget-view+json": {
       "model_id": "d28a016a910d452d85e6c07d32b78cd1",
       "version_major": 2,
       "version_minor": 0
      },
      "text/plain": [
       "Calculating Metrics:   0%|          | 0/8 [00:00<?, ?it/s]"
      ]
     },
     "metadata": {},
     "output_type": "display_data"
    },
    {
     "name": "stdout",
     "output_type": "stream",
     "text": [
      "{\n",
      "  \"success\": true,\n",
      "  \"expectation_config\": {\n",
      "    \"expectation_type\": \"expect_column_values_to_be_unique\",\n",
      "    \"kwargs\": {\n",
      "      \"column\": \"Question\",\n",
      "      \"batch_id\": \"datasource_fp2-asset_used_faq\"\n",
      "    },\n",
      "    \"meta\": {}\n",
      "  },\n",
      "  \"result\": {\n",
      "    \"element_count\": 114,\n",
      "    \"unexpected_count\": 0,\n",
      "    \"unexpected_percent\": 0.0,\n",
      "    \"partial_unexpected_list\": [],\n",
      "    \"missing_count\": 0,\n",
      "    \"missing_percent\": 0.0,\n",
      "    \"unexpected_percent_total\": 0.0,\n",
      "    \"unexpected_percent_nonmissing\": 0.0\n",
      "  },\n",
      "  \"meta\": {},\n",
      "  \"exception_info\": {\n",
      "    \"raised_exception\": false,\n",
      "    \"exception_traceback\": null,\n",
      "    \"exception_message\": null\n",
      "  }\n",
      "}\n"
     ]
    },
    {
     "data": {
      "application/vnd.jupyter.widget-view+json": {
       "model_id": "806e232363f944989f706f4e8d24d28d",
       "version_major": 2,
       "version_minor": 0
      },
      "text/plain": [
       "Calculating Metrics:   0%|          | 0/8 [00:00<?, ?it/s]"
      ]
     },
     "metadata": {},
     "output_type": "display_data"
    },
    {
     "name": "stdout",
     "output_type": "stream",
     "text": [
      "{\n",
      "  \"success\": true,\n",
      "  \"expectation_config\": {\n",
      "    \"expectation_type\": \"expect_column_values_to_be_unique\",\n",
      "    \"kwargs\": {\n",
      "      \"column\": \"Answer\",\n",
      "      \"batch_id\": \"datasource_fp2-asset_used_faq\"\n",
      "    },\n",
      "    \"meta\": {}\n",
      "  },\n",
      "  \"result\": {\n",
      "    \"element_count\": 114,\n",
      "    \"unexpected_count\": 0,\n",
      "    \"unexpected_percent\": 0.0,\n",
      "    \"partial_unexpected_list\": [],\n",
      "    \"missing_count\": 0,\n",
      "    \"missing_percent\": 0.0,\n",
      "    \"unexpected_percent_total\": 0.0,\n",
      "    \"unexpected_percent_nonmissing\": 0.0\n",
      "  },\n",
      "  \"meta\": {},\n",
      "  \"exception_info\": {\n",
      "    \"raised_exception\": false,\n",
      "    \"exception_traceback\": null,\n",
      "    \"exception_message\": null\n",
      "  }\n",
      "}\n"
     ]
    }
   ],
   "source": [
    "for i in ['Question', 'Answer'] :  \n",
    "    print(validator_faq.expect_column_values_to_be_unique(i))"
   ]
  },
  {
   "cell_type": "markdown",
   "metadata": {},
   "source": [
    "#### 5.2.2. Nilai pada kolom Question dan Answer harus memiliki tipe data string"
   ]
  },
  {
   "cell_type": "code",
   "execution_count": 75,
   "metadata": {},
   "outputs": [
    {
     "data": {
      "application/vnd.jupyter.widget-view+json": {
       "model_id": "c169480fd76a48369572ba83716f4492",
       "version_major": 2,
       "version_minor": 0
      },
      "text/plain": [
       "Calculating Metrics:   0%|          | 0/1 [00:00<?, ?it/s]"
      ]
     },
     "metadata": {},
     "output_type": "display_data"
    },
    {
     "name": "stdout",
     "output_type": "stream",
     "text": [
      "{\n",
      "  \"success\": true,\n",
      "  \"expectation_config\": {\n",
      "    \"expectation_type\": \"expect_column_values_to_be_of_type\",\n",
      "    \"kwargs\": {\n",
      "      \"column\": \"Question\",\n",
      "      \"type_\": \"object\",\n",
      "      \"batch_id\": \"datasource_fp2-asset_used_faq\"\n",
      "    },\n",
      "    \"meta\": {}\n",
      "  },\n",
      "  \"result\": {\n",
      "    \"observed_value\": \"object_\"\n",
      "  },\n",
      "  \"meta\": {},\n",
      "  \"exception_info\": {\n",
      "    \"raised_exception\": false,\n",
      "    \"exception_traceback\": null,\n",
      "    \"exception_message\": null\n",
      "  }\n",
      "}\n"
     ]
    },
    {
     "data": {
      "application/vnd.jupyter.widget-view+json": {
       "model_id": "f6cc9f4144984d07be4734f1e3019b92",
       "version_major": 2,
       "version_minor": 0
      },
      "text/plain": [
       "Calculating Metrics:   0%|          | 0/1 [00:00<?, ?it/s]"
      ]
     },
     "metadata": {},
     "output_type": "display_data"
    },
    {
     "name": "stdout",
     "output_type": "stream",
     "text": [
      "{\n",
      "  \"success\": true,\n",
      "  \"expectation_config\": {\n",
      "    \"expectation_type\": \"expect_column_values_to_be_of_type\",\n",
      "    \"kwargs\": {\n",
      "      \"column\": \"Answer\",\n",
      "      \"type_\": \"object\",\n",
      "      \"batch_id\": \"datasource_fp2-asset_used_faq\"\n",
      "    },\n",
      "    \"meta\": {}\n",
      "  },\n",
      "  \"result\": {\n",
      "    \"observed_value\": \"object_\"\n",
      "  },\n",
      "  \"meta\": {},\n",
      "  \"exception_info\": {\n",
      "    \"raised_exception\": false,\n",
      "    \"exception_traceback\": null,\n",
      "    \"exception_message\": null\n",
      "  }\n",
      "}\n"
     ]
    }
   ],
   "source": [
    "for i in dfFAQ.columns :\n",
    "    print(validator_faq.expect_column_values_to_be_of_type(i, 'object'))"
   ]
  },
  {
   "cell_type": "markdown",
   "metadata": {},
   "source": [
    "#### 5.2.3. Tidak boleh ada kolom yang memiliki missing values"
   ]
  },
  {
   "cell_type": "code",
   "execution_count": 76,
   "metadata": {},
   "outputs": [
    {
     "data": {
      "application/vnd.jupyter.widget-view+json": {
       "model_id": "fe44cdbd07c944c4801c01c03939530b",
       "version_major": 2,
       "version_minor": 0
      },
      "text/plain": [
       "Calculating Metrics:   0%|          | 0/6 [00:00<?, ?it/s]"
      ]
     },
     "metadata": {},
     "output_type": "display_data"
    },
    {
     "name": "stdout",
     "output_type": "stream",
     "text": [
      "{\n",
      "  \"success\": true,\n",
      "  \"expectation_config\": {\n",
      "    \"expectation_type\": \"expect_column_values_to_not_be_null\",\n",
      "    \"kwargs\": {\n",
      "      \"column\": \"Question\",\n",
      "      \"batch_id\": \"datasource_fp2-asset_used_faq\"\n",
      "    },\n",
      "    \"meta\": {}\n",
      "  },\n",
      "  \"result\": {\n",
      "    \"element_count\": 114,\n",
      "    \"unexpected_count\": 0,\n",
      "    \"unexpected_percent\": 0.0,\n",
      "    \"partial_unexpected_list\": []\n",
      "  },\n",
      "  \"meta\": {},\n",
      "  \"exception_info\": {\n",
      "    \"raised_exception\": false,\n",
      "    \"exception_traceback\": null,\n",
      "    \"exception_message\": null\n",
      "  }\n",
      "}\n"
     ]
    },
    {
     "data": {
      "application/vnd.jupyter.widget-view+json": {
       "model_id": "3a4df48262e34b0496bf2a06eda34575",
       "version_major": 2,
       "version_minor": 0
      },
      "text/plain": [
       "Calculating Metrics:   0%|          | 0/6 [00:00<?, ?it/s]"
      ]
     },
     "metadata": {},
     "output_type": "display_data"
    },
    {
     "name": "stdout",
     "output_type": "stream",
     "text": [
      "{\n",
      "  \"success\": true,\n",
      "  \"expectation_config\": {\n",
      "    \"expectation_type\": \"expect_column_values_to_not_be_null\",\n",
      "    \"kwargs\": {\n",
      "      \"column\": \"Answer\",\n",
      "      \"batch_id\": \"datasource_fp2-asset_used_faq\"\n",
      "    },\n",
      "    \"meta\": {}\n",
      "  },\n",
      "  \"result\": {\n",
      "    \"element_count\": 114,\n",
      "    \"unexpected_count\": 0,\n",
      "    \"unexpected_percent\": 0.0,\n",
      "    \"partial_unexpected_list\": []\n",
      "  },\n",
      "  \"meta\": {},\n",
      "  \"exception_info\": {\n",
      "    \"raised_exception\": false,\n",
      "    \"exception_traceback\": null,\n",
      "    \"exception_message\": null\n",
      "  }\n",
      "}\n"
     ]
    }
   ],
   "source": [
    "for i in dfFAQ.columns :\n",
    "    print(validator_faq.expect_column_values_to_not_be_null(i))"
   ]
  },
  {
   "cell_type": "markdown",
   "metadata": {},
   "source": [
    "### 5.3. Menyimpan konfigurasi proses validasi"
   ]
  },
  {
   "cell_type": "code",
   "execution_count": 91,
   "metadata": {},
   "outputs": [],
   "source": [
    "# Menyimpan konfigurasi validator_uc\n",
    "validator_uc.save_expectation_suite(discard_failed_expectations=False)"
   ]
  },
  {
   "cell_type": "code",
   "execution_count": 92,
   "metadata": {},
   "outputs": [],
   "source": [
    "# Menyimpan konfigurasi validator_faq\n",
    "validator_faq.save_expectation_suite(discard_failed_expectations=False)"
   ]
  },
  {
   "cell_type": "markdown",
   "metadata": {},
   "source": [
    "# 6. Membuat Checkpoint"
   ]
  },
  {
   "cell_type": "code",
   "execution_count": 93,
   "metadata": {},
   "outputs": [],
   "source": [
    "# Membuat check point\n",
    "checkpoint_faq_1 = context.add_or_update_checkpoint(\n",
    "    name = 'checkpoint_faq_1',\n",
    "    validator = validator_faq,\n",
    ")"
   ]
  },
  {
   "cell_type": "code",
   "execution_count": 94,
   "metadata": {},
   "outputs": [],
   "source": [
    "# Membuat check point\n",
    "checkpoint_uc_1 = context.add_or_update_checkpoint(\n",
    "    name = 'checkpoint_uc_1',\n",
    "    validator = validator_uc,\n",
    ")"
   ]
  },
  {
   "cell_type": "code",
   "execution_count": 95,
   "metadata": {},
   "outputs": [
    {
     "data": {
      "application/vnd.jupyter.widget-view+json": {
       "model_id": "02def40bd0fc47b4b2e89ba63021a9bd",
       "version_major": 2,
       "version_minor": 0
      },
      "text/plain": [
       "Calculating Metrics:   0%|          | 0/33 [00:00<?, ?it/s]"
      ]
     },
     "metadata": {},
     "output_type": "display_data"
    }
   ],
   "source": [
    "# Menjalankan check point\n",
    "checkpoint_faq_result = checkpoint_faq_1.run()"
   ]
  },
  {
   "cell_type": "code",
   "execution_count": 96,
   "metadata": {},
   "outputs": [
    {
     "data": {
      "application/vnd.jupyter.widget-view+json": {
       "model_id": "0ba4c2195ede486ca3fda19b89a94941",
       "version_major": 2,
       "version_minor": 0
      },
      "text/plain": [
       "Calculating Metrics:   0%|          | 0/168 [00:00<?, ?it/s]"
      ]
     },
     "metadata": {},
     "output_type": "display_data"
    }
   ],
   "source": [
    "# Menjalankan check point\n",
    "checkpoint_uc_result = checkpoint_uc_1.run()"
   ]
  },
  {
   "cell_type": "markdown",
   "metadata": {},
   "source": [
    "# 7. Membuat Dokumentasi Konfigurasi dan Hasil Validasi"
   ]
  },
  {
   "cell_type": "code",
   "execution_count": 97,
   "metadata": {},
   "outputs": [
    {
     "data": {
      "text/plain": [
       "{'local_site': 'file://c:\\\\Users\\\\Fiqih\\\\AppData\\\\Local\\\\Programs\\\\Latihan python\\\\hacktiv8\\\\FinalProject\\\\webscrapping\\\\gx\\\\uncommitted/data_docs/local_site/index.html'}"
      ]
     },
     "execution_count": 97,
     "metadata": {},
     "output_type": "execute_result"
    }
   ],
   "source": [
    "# Membuat dokumentasi\n",
    "context.build_data_docs()"
   ]
  }
 ],
 "metadata": {
  "kernelspec": {
   "display_name": "Python 3",
   "language": "python",
   "name": "python3"
  },
  "language_info": {
   "codemirror_mode": {
    "name": "ipython",
    "version": 3
   },
   "file_extension": ".py",
   "mimetype": "text/x-python",
   "name": "python",
   "nbconvert_exporter": "python",
   "pygments_lexer": "ipython3",
   "version": "3.11.5"
  }
 },
 "nbformat": 4,
 "nbformat_minor": 2
}
